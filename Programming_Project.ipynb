{
  "cells": [
    {
      "cell_type": "code",
      "execution_count": null,
      "metadata": {
        "colab": {
          "base_uri": "https://localhost:8080/"
        },
        "id": "-cJtHThUCu7R",
        "outputId": "8d9485ae-9ff4-44ec-ccee-136185515d06"
      },
      "outputs": [
        {
          "name": "stdout",
          "output_type": "stream",
          "text": [
            "         Date Global_Confirmed_Cases Global_Deaths\n",
            "0     1/24/20                    944            26\n",
            "1     1/25/20                   1437            42\n",
            "2     1/26/20                   2120            56\n",
            "3     1/27/20                   2929            82\n",
            "4     1/28/20                   5580           131\n",
            "...       ...                    ...           ...\n",
            "1136   3/5/23              676024901       6877749\n",
            "1137   3/6/23              676082941       6878115\n",
            "1138   3/7/23              676213378       6879038\n",
            "1139   3/8/23              676392824       6880483\n",
            "1140   3/9/23              676570149       6881802\n",
            "\n",
            "[1141 rows x 3 columns]\n"
          ]
        }
      ],
      "source": [
        "import pandas as pd\n",
        "\n",
        "# URLs for confirmed cases and deaths\n",
        "confirmed_cases_url = \"https://raw.githubusercontent.com/CSSEGISandData/COVID-19/master/csse_covid_19_data/csse_covid_19_time_series/time_series_covid19_confirmed_global.csv\"\n",
        "deaths_url = \"https://raw.githubusercontent.com/CSSEGISandData/COVID-19/master/csse_covid_19_data/csse_covid_19_time_series/time_series_covid19_deaths_global.csv\"\n",
        "\n",
        "# Read data into dataframes\n",
        "confirmed_cases_df = pd.read_csv(confirmed_cases_url)\n",
        "deaths_df = pd.read_csv(deaths_url)\n",
        "\n",
        "# Drop unnecessary columns (Latitude, Longitude, etc.)\n",
        "confirmed_cases_df = confirmed_cases_df.drop(columns=['Lat', 'Long', 'Province/State'])\n",
        "deaths_df = deaths_df.drop(columns=['Lat', 'Long', 'Province/State'])\n",
        "\n",
        "# Aggregate and sum on a global level\n",
        "global_confirmed_cases = confirmed_cases_df.sum(axis=0)[3:]  # Starting from the 4th column (dates)\n",
        "global_deaths = deaths_df.sum(axis=0)[3:]  # Starting from the 4th column (dates)\n",
        "\n",
        "# Create a new dataframe\n",
        "global_data = pd.DataFrame({\n",
        "    'Date': global_confirmed_cases.index,\n",
        "    'Global_Confirmed_Cases': global_confirmed_cases.values,\n",
        "    'Global_Deaths': global_deaths.values\n",
        "})\n",
        "\n",
        "# Display the resulting dataframe\n",
        "print(global_data)\n"
      ]
    },
    {
      "cell_type": "markdown",
      "metadata": {
        "id": "Jniv40IgHAbL"
      },
      "source": [
        "1.   Overall American Market >>Apple Inc. (AAPL)\n",
        "2.   Overall Canadian Market >>Canadian Imperial Bank of Commerce (CM)\n",
        "3.   Travel sector >>Marriott International, Inc. (MAR)\n",
        "4.   The Real Estate sector >>Lennar Corporation (LEN) - One of the largest homebuilders in the United States.\n",
        "5.   Precious metals (Gold, Silver, Platinum, etc) >> Pan American Silver Corp. (PAAS)"
      ]
    },
    {
      "cell_type": "markdown",
      "metadata": {
        "id": "DtHRTU5QLkq0"
      },
      "source": [
        "API KEY : 44R0OA310NHJ03W8"
      ]
    },
    {
      "cell_type": "code",
      "execution_count": null,
      "metadata": {
        "colab": {
          "base_uri": "https://localhost:8080/"
        },
        "id": "UmPh2bgtJ2RN",
        "outputId": "db06fa23-b395-4f28-87d5-9215400ef731"
      },
      "outputs": [
        {
          "name": "stdout",
          "output_type": "stream",
          "text": [
            "Collecting alpha_vantage\n",
            "  Downloading alpha_vantage-2.3.1-py3-none-any.whl (31 kB)\n",
            "Requirement already satisfied: aiohttp in /usr/local/lib/python3.10/dist-packages (from alpha_vantage) (3.8.6)\n",
            "Requirement already satisfied: requests in /usr/local/lib/python3.10/dist-packages (from alpha_vantage) (2.31.0)\n",
            "Requirement already satisfied: attrs>=17.3.0 in /usr/local/lib/python3.10/dist-packages (from aiohttp->alpha_vantage) (23.1.0)\n",
            "Requirement already satisfied: charset-normalizer<4.0,>=2.0 in /usr/local/lib/python3.10/dist-packages (from aiohttp->alpha_vantage) (3.3.2)\n",
            "Requirement already satisfied: multidict<7.0,>=4.5 in /usr/local/lib/python3.10/dist-packages (from aiohttp->alpha_vantage) (6.0.4)\n",
            "Requirement already satisfied: async-timeout<5.0,>=4.0.0a3 in /usr/local/lib/python3.10/dist-packages (from aiohttp->alpha_vantage) (4.0.3)\n",
            "Requirement already satisfied: yarl<2.0,>=1.0 in /usr/local/lib/python3.10/dist-packages (from aiohttp->alpha_vantage) (1.9.2)\n",
            "Requirement already satisfied: frozenlist>=1.1.1 in /usr/local/lib/python3.10/dist-packages (from aiohttp->alpha_vantage) (1.4.0)\n",
            "Requirement already satisfied: aiosignal>=1.1.2 in /usr/local/lib/python3.10/dist-packages (from aiohttp->alpha_vantage) (1.3.1)\n",
            "Requirement already satisfied: idna<4,>=2.5 in /usr/local/lib/python3.10/dist-packages (from requests->alpha_vantage) (3.4)\n",
            "Requirement already satisfied: urllib3<3,>=1.21.1 in /usr/local/lib/python3.10/dist-packages (from requests->alpha_vantage) (2.0.7)\n",
            "Requirement already satisfied: certifi>=2017.4.17 in /usr/local/lib/python3.10/dist-packages (from requests->alpha_vantage) (2023.7.22)\n",
            "Installing collected packages: alpha_vantage\n",
            "Successfully installed alpha_vantage-2.3.1\n"
          ]
        }
      ],
      "source": [
        "pip install alpha_vantage"
      ]
    },
    {
      "cell_type": "code",
      "execution_count": 5,
      "metadata": {},
      "outputs": [
        {
          "name": "stdout",
          "output_type": "stream",
          "text": [
            "Requirement already satisfied: requests in c:\\python311\\lib\\site-packages (2.31.0)\n",
            "Requirement already satisfied: charset-normalizer<4,>=2 in c:\\python311\\lib\\site-packages (from requests) (3.3.2)\n",
            "Requirement already satisfied: idna<4,>=2.5 in c:\\python311\\lib\\site-packages (from requests) (3.6)\n",
            "Requirement already satisfied: urllib3<3,>=1.21.1 in c:\\python311\\lib\\site-packages (from requests) (2.1.0)\n",
            "Requirement already satisfied: certifi>=2017.4.17 in c:\\python311\\lib\\site-packages (from requests) (2023.11.17)\n",
            "Note: you may need to restart the kernel to use updated packages.\n"
          ]
        },
        {
          "name": "stderr",
          "output_type": "stream",
          "text": [
            "\n",
            "[notice] A new release of pip available: 22.3 -> 23.3.1\n",
            "[notice] To update, run: python.exe -m pip install --upgrade pip\n"
          ]
        }
      ],
      "source": [
        "pip install requests"
      ]
    },
    {
      "cell_type": "code",
      "execution_count": 2,
      "metadata": {
        "colab": {
          "base_uri": "https://localhost:8080/"
        },
        "id": "J7GTG2qgLtHp",
        "outputId": "1c383e32-bf07-46ad-8323-a1f732b6ab9c"
      },
      "outputs": [
        {
          "ename": "ModuleNotFoundError",
          "evalue": "No module named 'request'",
          "output_type": "error",
          "traceback": [
            "\u001b[1;31m---------------------------------------------------------------------------\u001b[0m",
            "\u001b[1;31mModuleNotFoundError\u001b[0m                       Traceback (most recent call last)",
            "\u001b[1;32mc:\\Users\\shrav\\Desktop\\stock-project\\stock-project-group\\Programming_Project.ipynb Cell 5\u001b[0m line \u001b[0;36m1\n\u001b[1;32m----> <a href='vscode-notebook-cell:/c%3A/Users/shrav/Desktop/stock-project/stock-project-group/Programming_Project.ipynb#W4sZmlsZQ%3D%3D?line=0'>1</a>\u001b[0m \u001b[39mimport\u001b[39;00m \u001b[39mrequest\u001b[39;00m\n\u001b[0;32m      <a href='vscode-notebook-cell:/c%3A/Users/shrav/Desktop/stock-project/stock-project-group/Programming_Project.ipynb#W4sZmlsZQ%3D%3D?line=2'>3</a>\u001b[0m \u001b[39m# Replace 'YOUR_API_KEY' with your actual Alpha Vantage API key\u001b[39;00m\n\u001b[0;32m      <a href='vscode-notebook-cell:/c%3A/Users/shrav/Desktop/stock-project/stock-project-group/Programming_Project.ipynb#W4sZmlsZQ%3D%3D?line=3'>4</a>\u001b[0m api_key \u001b[39m=\u001b[39m \u001b[39m'\u001b[39m\u001b[39m44R0OA310NHJ03W8\u001b[39m\u001b[39m'\u001b[39m\n",
            "\u001b[1;31mModuleNotFoundError\u001b[0m: No module named 'request'"
          ]
        }
      ],
      "source": [
        "import request\n",
        "\n",
        "# Replace 'YOUR_API_KEY' with your actual Alpha Vantage API key\n",
        "api_key = '44R0OA310NHJ03W8'\n",
        "\n",
        "# Symbol for the stock you want to retrieve data for\n",
        "symbol = 'AAPL'  # Example: Apple Inc.\n",
        "\n",
        "# Date for which you want to get the daily high and low prices\n",
        "date = '2023-11-24'  # Example: November 24, 2023\n",
        "\n",
        "# Alpha Vantage API endpoint for daily stock prices\n",
        "endpoint = f'https://www.alphavantage.co/query?function=TIME_SERIES_DAILY&symbol={symbol}&apikey={api_key}'\n",
        "\n",
        "try:\n",
        "    # Make the API request\n",
        "    response = requests.get(endpoint)\n",
        "\n",
        "    # Check if the request was successful (status code 200)\n",
        "    if response.status_code == 200:\n",
        "        data = response.json()\n",
        "\n",
        "        # Check if the date is available in the response\n",
        "        if date in data['Time Series (Daily)']:\n",
        "            # Extract high and low prices for the specified date\n",
        "            high_price = float(data['Time Series (Daily)'][date]['2. high'])\n",
        "            low_price = float(data['Time Series (Daily)'][date]['3. low'])\n",
        "\n",
        "            print(f\"For {symbol} on {date}:\")\n",
        "            print(f\"High Price: {high_price}\")\n",
        "            print(f\"Low Price: {low_price}\")\n",
        "        else:\n",
        "            print(f\"No data available for {symbol} on {date}\")\n",
        "    else:\n",
        "        print(f\"Error: {response.status_code} - {response.text}\")\n",
        "except Exception as e:\n",
        "    print(f\"An error occurred: {e}\")\n"
      ]
    },
    {
      "cell_type": "code",
      "execution_count": null,
      "metadata": {
        "id": "8lMs4jinMyju"
      },
      "outputs": [],
      "source": [
        "\n",
        "\n",
        "    # Extract daily high and low prices from the time series\n",
        "    if 'Time Series (Daily)' in data:\n",
        "        time_series = data['Time Series (Daily)']\n",
        "        dates = list(time_series.keys())\n",
        "        dates.sort(reverse=True)  # Sorting dates in reverse order to get the latest data first\n",
        "        latest_date = dates[0]\n",
        "\n",
        "        high_price = float(time_series[latest_date]['2. high'])\n",
        "        low_price = float(time_series[latest_date]['3. low'])\n",
        "\n",
        "        return high_price, low_price\n",
        "    else:\n",
        "        return None, None\n",
        "\n",
        "# Get the daily high and low prices\n",
        "daily_high, daily_low = get_daily_prices(api_key, symbol)\n",
        "\n",
        "# Display the results\n",
        "if daily_high is not None and daily_low is not None:\n",
        "    print(f\"Daily High for {symbol}: {daily_high}\")\n",
        "    print(f\"Daily Low for {symbol}: {daily_low}\")\n",
        "else:\n",
        "    print(f\"Failed to retrieve data for {symbol}\")\n"
      ]
    }
  ],
  "metadata": {
    "colab": {
      "provenance": []
    },
    "kernelspec": {
      "display_name": "Python 3",
      "name": "python3"
    },
    "language_info": {
      "codemirror_mode": {
        "name": "ipython",
        "version": 3
      },
      "file_extension": ".py",
      "mimetype": "text/x-python",
      "name": "python",
      "nbconvert_exporter": "python",
      "pygments_lexer": "ipython3",
      "version": "3.11.0"
    }
  },
  "nbformat": 4,
  "nbformat_minor": 0
}
